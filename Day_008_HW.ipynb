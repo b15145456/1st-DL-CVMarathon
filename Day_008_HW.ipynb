{
  "nbformat": 4,
  "nbformat_minor": 0,
  "metadata": {
    "kernelspec": {
      "display_name": "Python 3",
      "language": "python",
      "name": "python3"
    },
    "language_info": {
      "codemirror_mode": {
        "name": "ipython",
        "version": 3
      },
      "file_extension": ".py",
      "mimetype": "text/x-python",
      "name": "python",
      "nbconvert_exporter": "python",
      "pygments_lexer": "ipython3",
      "version": "3.6.1"
    },
    "colab": {
      "name": "Day_008_HW.ipynb",
      "provenance": [],
      "collapsed_sections": [],
      "toc_visible": true,
      "include_colab_link": true
    }
  },
  "cells": [
    {
      "cell_type": "markdown",
      "metadata": {
        "id": "view-in-github",
        "colab_type": "text"
      },
      "source": [
        "<a href=\"https://colab.research.google.com/github/b15145456/1st-ML-Marathon/blob/main/Day_008_HW.ipynb\" target=\"_parent\"><img src=\"https://colab.research.google.com/assets/colab-badge.svg\" alt=\"Open In Colab\"/></a>"
      ]
    },
    {
      "cell_type": "markdown",
      "metadata": {
        "id": "ZHPiMwZcpGau"
      },
      "source": [
        "# [作業目標]\n",
        "- 對資料做更多處理 : 顯示特定欄位的統計值與直方圖"
      ]
    },
    {
      "cell_type": "markdown",
      "metadata": {
        "id": "JIk0tDDrpGa7"
      },
      "source": [
        "# [作業重點]\n",
        "- 試著顯示特定欄位的基礎統計數值 (In[4], Out[4], Hint : describe())\n",
        "- 試著顯示特定欄位的直方圖 (In[5], Out[5], Hint : .hist())"
      ]
    },
    {
      "cell_type": "code",
      "metadata": {
        "collapsed": true,
        "id": "mUEZPPBNpGa9"
      },
      "source": [
        "# Import 需要的套件\n",
        "import os\n",
        "import numpy as np\n",
        "import pandas as pd\n",
        "\n",
        "# 設定 data_path\n",
        "# dir_data = './data/'"
      ],
      "execution_count": 5,
      "outputs": []
    },
    {
      "cell_type": "code",
      "metadata": {
        "collapsed": true,
        "id": "3q7uDb1OpGa-"
      },
      "source": [
        "# f_app_train = os.path.join(dir_data, 'application_train.csv')\n",
        "app_train = pd.read_csv('application_train.csv')"
      ],
      "execution_count": 6,
      "outputs": []
    },
    {
      "cell_type": "code",
      "metadata": {
        "collapsed": true,
        "id": "JwmS7I7vpGa_"
      },
      "source": [
        "import matplotlib.pyplot as plt\n",
        "%matplotlib inline"
      ],
      "execution_count": 7,
      "outputs": []
    },
    {
      "cell_type": "markdown",
      "metadata": {
        "id": "99VybzxEpGa_"
      },
      "source": [
        "## 練習時間"
      ]
    },
    {
      "cell_type": "markdown",
      "metadata": {
        "id": "6zr5pnv7pGbA"
      },
      "source": [
        "觀察有興趣的欄位的資料分佈，並嘗試找出有趣的訊息\n",
        "#### Eg\n",
        "- 計算任意欄位的平均數及標準差\n",
        "- 畫出任意欄位的[直方圖](https://zh.wikipedia.org/zh-tw/%E7%9B%B4%E6%96%B9%E5%9B%BE)\n",
        "\n",
        "### Hints:\n",
        "- [Descriptive Statistics For pandas Dataframe](https://chrisalbon.com/python/data_wrangling/pandas_dataframe_descriptive_stats/)\n",
        "- [pandas 中的繪圖函數](https://amaozhao.gitbooks.io/pandas-notebook/content/pandas%E4%B8%AD%E7%9A%84%E7%BB%98%E5%9B%BE%E5%87%BD%E6%95%B0.html)\n"
      ]
    },
    {
      "cell_type": "code",
      "metadata": {
        "collapsed": true,
        "id": "tSo42igLpGbA"
      },
      "source": [
        "app_train = app_train.select_dtypes(include=['float64'])\r\n",
        "column_list = app_train.columns"
      ],
      "execution_count": 54,
      "outputs": []
    },
    {
      "cell_type": "code",
      "metadata": {
        "colab": {
          "base_uri": "https://localhost:8080/"
        },
        "id": "xc82pjtMqFhE",
        "outputId": "ea346b1b-29a8-4458-bb22-299d0626ede7"
      },
      "source": [
        "app_train[column_list].std()"
      ],
      "execution_count": 55,
      "outputs": [
        {
          "output_type": "execute_result",
          "data": {
            "text/plain": [
              "TARGET                             0.259943\n",
              "CNT_CHILDREN                       0.706370\n",
              "AMT_INCOME_TOTAL              101641.770109\n",
              "AMT_CREDIT                    392659.061064\n",
              "AMT_ANNUITY                    14331.815064\n",
              "                                  ...      \n",
              "AMT_REQ_CREDIT_BUREAU_DAY          0.110156\n",
              "AMT_REQ_CREDIT_BUREAU_WEEK         0.185313\n",
              "AMT_REQ_CREDIT_BUREAU_MON          0.920840\n",
              "AMT_REQ_CREDIT_BUREAU_QRT          0.642104\n",
              "AMT_REQ_CREDIT_BUREAU_YEAR         1.877762\n",
              "Length: 105, dtype: float64"
            ]
          },
          "metadata": {
            "tags": []
          },
          "execution_count": 55
        }
      ]
    },
    {
      "cell_type": "code",
      "metadata": {
        "colab": {
          "base_uri": "https://localhost:8080/",
          "height": 286
        },
        "id": "g7OYDZNNqfSD",
        "outputId": "f50f4ade-1d5d-440c-a05c-06ba64c930f2"
      },
      "source": [
        "app_train['OWN_CAR_AGE'].hist()"
      ],
      "execution_count": 104,
      "outputs": [
        {
          "output_type": "execute_result",
          "data": {
            "text/plain": [
              "<matplotlib.axes._subplots.AxesSubplot at 0x7f3735931160>"
            ]
          },
          "metadata": {
            "tags": []
          },
          "execution_count": 104
        },
        {
          "output_type": "display_data",
          "data": {
            "image/png": "[encoded data removed]",
            "text/plain": [
              "<Figure size 432x288 with 1 Axes>"
            ]
          },
          "metadata": {
            "tags": [],
            "needs_background": "light"
          }
        }
      ]
    },
    {
      "cell_type": "code",
      "metadata": {
        "id": "meTpdjgqvaxb"
      },
      "source": [
        "|"
      ],
      "execution_count": null,
      "outputs": []
    }
  ]
}