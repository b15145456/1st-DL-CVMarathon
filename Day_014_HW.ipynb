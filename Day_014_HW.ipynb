{
  "nbformat": 4,
  "nbformat_minor": 0,
  "metadata": {
    "kernelspec": {
      "display_name": "Python 3",
      "language": "python",
      "name": "python3"
    },
    "language_info": {
      "codemirror_mode": {
        "name": "ipython",
        "version": 3
      },
      "file_extension": ".py",
      "mimetype": "text/x-python",
      "name": "python",
      "nbconvert_exporter": "python",
      "pygments_lexer": "ipython3",
      "version": "3.6.1"
    },
    "colab": {
      "name": "Day_014_HW.ipynb",
      "provenance": [],
      "toc_visible": true,
      "include_colab_link": true
    }
  },
  "cells": [
    {
      "cell_type": "markdown",
      "metadata": {
        "id": "view-in-github",
        "colab_type": "text"
      },
      "source": [
        "<a href=\"https://colab.research.google.com/github/b15145456/6th-ML-Marathon/blob/main/Day_014_HW.ipynb\" target=\"_parent\"><img src=\"https://colab.research.google.com/assets/colab-badge.svg\" alt=\"Open In Colab\"/></a>"
      ]
    },
    {
      "cell_type": "code",
      "metadata": {
        "collapsed": true,
        "colab": {
          "base_uri": "https://localhost:8080/",
          "height": 131
        },
        "id": "4mN-Z5qGwl9I",
        "outputId": "c4dfd18e-b716-4989-9614-f33571aeb726"
      },
      "source": [
        "# 作業\n",
        "- 參考範例程式碼，模擬一組負相關的資料，並計算出相關係數以及畫出 scatter plot"
      ],
      "execution_count": 2,
      "outputs": [
        {
          "output_type": "error",
          "ename": "SyntaxError",
          "evalue": "ignored",
          "traceback": [
            "\u001b[0;36m  File \u001b[0;32m\"<ipython-input-2-e6778236b18c>\"\u001b[0;36m, line \u001b[0;32m2\u001b[0m\n\u001b[0;31m    - 參考範例程式碼，模擬一組負相關的資料，並計算出相關係數以及畫出 scatter plot\u001b[0m\n\u001b[0m                                    ^\u001b[0m\n\u001b[0;31mSyntaxError\u001b[0m\u001b[0;31m:\u001b[0m invalid character in identifier\n"
          ]
        }
      ]
    },
    {
      "cell_type": "code",
      "metadata": {
        "collapsed": true,
        "colab": {
          "base_uri": "https://localhost:8080/",
          "height": 131
        },
        "id": "38SPWCSowl9M",
        "outputId": "3934198d-4a80-465d-f5dc-d7e35b101b3e"
      },
      "source": [
        "# [作業目標]\n",
        "- 以下程式碼將示範在 python 如何利用 numpy 計算出兩組數據之間的相關係數，並觀察散佈圖\n",
        "- 藉由觀察相關矩陣與散佈圖的關係, 希望同學對 負相關 的變數分布情形也有比較直覺的理解"
      ],
      "execution_count": 3,
      "outputs": [
        {
          "output_type": "error",
          "ename": "SyntaxError",
          "evalue": "ignored",
          "traceback": [
            "\u001b[0;36m  File \u001b[0;32m\"<ipython-input-3-0994318bb86c>\"\u001b[0;36m, line \u001b[0;32m2\u001b[0m\n\u001b[0;31m    - 以下程式碼將示範在 python 如何利用 numpy 計算出兩組數據之間的相關係數，並觀察散佈圖\u001b[0m\n\u001b[0m                     ^\u001b[0m\n\u001b[0;31mSyntaxError\u001b[0m\u001b[0;31m:\u001b[0m invalid syntax\n"
          ]
        }
      ]
    },
    {
      "cell_type": "code",
      "metadata": {
        "collapsed": true,
        "id": "yr-kg_1Bwl9M"
      },
      "source": [
        "# [作業重點]\n",
        "- 仿照 In[4], In[5] 的語法, 寫出負相關的變數, 並觀察相關矩陣以及分布圖"
      ],
      "execution_count": null,
      "outputs": []
    },
    {
      "cell_type": "code",
      "metadata": {
        "collapsed": true,
        "id": "xch5zmeqwl9N"
      },
      "source": [
        "# 載入基礎套件\n",
        "import numpy as np\n",
        "np.random.seed(1)\n",
        "\n",
        "import matplotlib\n",
        "import matplotlib.pyplot as plt\n",
        "%matplotlib inline"
      ],
      "execution_count": 4,
      "outputs": []
    },
    {
      "cell_type": "markdown",
      "metadata": {
        "id": "DcmssVgQwl9N"
      },
      "source": [
        "### 弱相關"
      ]
    },
    {
      "cell_type": "code",
      "metadata": {
        "colab": {
          "base_uri": "https://localhost:8080/"
        },
        "id": "VqJFWT47wl9O",
        "outputId": "c788d435-59a9-4dc5-8069-d2f42195fcdb"
      },
      "source": [
        "# 隨機生成兩組 1000 個介於 0~50 的數的整數 x, y, 看看相關矩陣如何\n",
        "x = np.random.randint(0, 50, 1000)\n",
        "y = np.random.randint(0, 50, 1000)\n",
        "\n",
        "# 呼叫 numpy 裡的相關矩陣函數 (corrcoef)\n",
        "np.corrcoef(x, y)"
      ],
      "execution_count": 5,
      "outputs": [
        {
          "output_type": "execute_result",
          "data": {
            "text/plain": [
              "array([[1.        , 0.00404702],\n",
              "       [0.00404702, 1.        ]])"
            ]
          },
          "metadata": {
            "tags": []
          },
          "execution_count": 5
        }
      ]
    },
    {
      "cell_type": "code",
      "metadata": {
        "colab": {
          "base_uri": "https://localhost:8080/",
          "height": 282
        },
        "id": "2o-RdM4pwl9P",
        "outputId": "df3b3b90-ee4a-4c3c-f999-d8be37b7d1b8"
      },
      "source": [
        "# 將分布畫出來看看吧\n",
        "plt.scatter(x, y)"
      ],
      "execution_count": 6,
      "outputs": [
        {
          "output_type": "execute_result",
          "data": {
            "text/plain": [
              "<matplotlib.collections.PathCollection at 0x7ff0a4cede10>"
            ]
          },
          "metadata": {
            "tags": []
          },
          "execution_count": 6
        },
        {
          "output_type": "display_data",
          "data": {
            "image/png": "[encoded data removed]",
            "text/plain": [
              "<Figure size 432x288 with 1 Axes>"
            ]
          },
          "metadata": {
            "tags": [],
            "needs_background": "light"
          }
        }
      ]
    },
    {
      "cell_type": "markdown",
      "metadata": {
        "id": "W-1My7ZBwl9P"
      },
      "source": [
        "### 正相關"
      ]
    },
    {
      "cell_type": "code",
      "metadata": {
        "colab": {
          "base_uri": "https://localhost:8080/"
        },
        "id": "p0vTv9Z4wl9P",
        "outputId": "b91a4f9b-64c3-4231-af33-3d2db15f316f"
      },
      "source": [
        "# 隨機生成 1000 個介於 0~50 的數 x\n",
        "x = np.random.randint(0, 50, 1000)\n",
        "\n",
        "# 這次讓 y 與 x 正相關，再增加一些雜訊\n",
        "y = x + np.random.normal(0, 10, 1000)\n",
        "\n",
        "# 再次用 numpy 裡的函數來計算相關係數\n",
        "np.corrcoef(x, y)"
      ],
      "execution_count": 7,
      "outputs": [
        {
          "output_type": "execute_result",
          "data": {
            "text/plain": [
              "array([[1.       , 0.8218465],\n",
              "       [0.8218465, 1.       ]])"
            ]
          },
          "metadata": {
            "tags": []
          },
          "execution_count": 7
        }
      ]
    },
    {
      "cell_type": "code",
      "metadata": {
        "colab": {
          "base_uri": "https://localhost:8080/",
          "height": 282
        },
        "id": "cYAPRHIJwl9Q",
        "outputId": "a6beeebf-f473-4746-f2d6-a00f7ca42cf7"
      },
      "source": [
        "# 再看看正相關的 x,y 分布\n",
        "plt.scatter(x, y)"
      ],
      "execution_count": 8,
      "outputs": [
        {
          "output_type": "execute_result",
          "data": {
            "text/plain": [
              "<matplotlib.collections.PathCollection at 0x7ff0a484b6a0>"
            ]
          },
          "metadata": {
            "tags": []
          },
          "execution_count": 8
        },
        {
          "output_type": "display_data",
          "data": {
            "image/png": "[encoded data removed]",
            "text/plain": [
              "<Figure size 432x288 with 1 Axes>"
            ]
          },
          "metadata": {
            "tags": [],
            "needs_background": "light"
          }
        }
      ]
    },
    {
      "cell_type": "markdown",
      "metadata": {
        "id": "d8XVmcjGwwwE"
      },
      "source": [
        "### 負相關"
      ]
    },
    {
      "cell_type": "code",
      "metadata": {
        "colab": {
          "base_uri": "https://localhost:8080/"
        },
        "id": "EqEHhz50wz1k",
        "outputId": "e096fe33-111a-49bb-fd13-313809636068"
      },
      "source": [
        "# 隨機生成 1000 個介於 0~50 的數 x\r\n",
        "x = np.random.randint(0, 50, 1000)\r\n",
        "y = -x + np.random.normal(0, 10, 1000)\r\n",
        "\r\n",
        "# 再次用 numpy 裡的函數來計算相關係數\r\n",
        "np.corrcoef(x, y)"
      ],
      "execution_count": 13,
      "outputs": [
        {
          "output_type": "execute_result",
          "data": {
            "text/plain": [
              "array([[ 1.        , -0.83103108],\n",
              "       [-0.83103108,  1.        ]])"
            ]
          },
          "metadata": {
            "tags": []
          },
          "execution_count": 13
        }
      ]
    },
    {
      "cell_type": "code",
      "metadata": {
        "colab": {
          "base_uri": "https://localhost:8080/",
          "height": 282
        },
        "id": "YobbdPwAw6pQ",
        "outputId": "c9355ad3-a228-4cbb-d399-1ba6329d5776"
      },
      "source": [
        "plt.scatter(x, y)"
      ],
      "execution_count": 14,
      "outputs": [
        {
          "output_type": "execute_result",
          "data": {
            "text/plain": [
              "<matplotlib.collections.PathCollection at 0x7ff0a46f9080>"
            ]
          },
          "metadata": {
            "tags": []
          },
          "execution_count": 14
        },
        {
          "output_type": "display_data",
          "data": {
            "image/png": "[encoded data removed]",
            "text/plain": [
              "<Figure size 432x288 with 1 Axes>"
            ]
          },
          "metadata": {
            "tags": [],
            "needs_background": "light"
          }
        }
      ]
    },
    {
      "cell_type": "code",
      "metadata": {
        "id": "zjlk9jdZxCw-"
      },
      "source": [
        ""
      ],
      "execution_count": null,
      "outputs": []
    }
  ]
}