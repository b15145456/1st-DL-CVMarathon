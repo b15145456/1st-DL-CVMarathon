{
  "nbformat": 4,
  "nbformat_minor": 0,
  "metadata": {
    "kernelspec": {
      "display_name": "Python 3",
      "language": "python",
      "name": "python3"
    },
    "language_info": {
      "codemirror_mode": {
        "name": "ipython",
        "version": 3
      },
      "file_extension": ".py",
      "mimetype": "text/x-python",
      "name": "python",
      "nbconvert_exporter": "python",
      "pygments_lexer": "ipython3",
      "version": "3.7.0"
    },
    "colab": {
      "name": "Day_003_HW.ipynb",
      "provenance": [],
      "include_colab_link": true
    }
  },
  "cells": [
    {
      "cell_type": "markdown",
      "metadata": {
        "id": "view-in-github",
        "colab_type": "text"
      },
      "source": [
        "<a href=\"https://colab.research.google.com/github/b15145456/1st-DL-CVMarathon/blob/main/Day_003_HW.ipynb\" target=\"_parent\"><img src=\"https://colab.research.google.com/assets/colab-badge.svg\" alt=\"Open In Colab\"/></a>"
      ]
    },
    {
      "cell_type": "markdown",
      "metadata": {
        "id": "aVjD2QZrfx9E"
      },
      "source": [
        "## [作業目標]\n",
        "持續接觸有關機器學習的相關專案與最新技術"
      ]
    },
    {
      "cell_type": "markdown",
      "metadata": {
        "id": "7dmsLNPcfx9I"
      },
      "source": [
        "## [作業重點]\n",
        "透過觀察頂尖公司的機器學習文章，來了解各公司是怎麼應用機器學習在實際的專案上"
      ]
    },
    {
      "cell_type": "markdown",
      "metadata": {
        "id": "-siSjvl-fx9J"
      },
      "source": [
        "## [作業]\n",
        "今天的作業希望大家能夠看看全球機器學習巨頭們在做的機器學習專案。以 google 為例，下圖是 Google 內部專案使用機器學習的數量，隨著時間進展，現在早已超過 2000 個專案在使用機器學習。"
      ]
    },
    {
      "cell_type": "markdown",
      "metadata": {
        "id": "AM5c33s9fx9K"
      },
      "source": [
        "![image](https://cdn-images-1.medium.com/max/800/1*U_L8qI8RmYS-MOBrYvXhSA.png)"
      ]
    },
    {
      "cell_type": "markdown",
      "metadata": {
        "id": "SMOhyos8fx9L"
      },
      "source": [
        "底下幫同學整理幾間知名企業的 blog 或機器學習網站 (自行搜尋也可)，這些網站都會整理最新的機器學習專案或者是技術文章，請挑選一篇文章閱讀並試著回答\n",
        "1. 專案的目標？ (要解決什麼問題）\n",
        "2. 使用的技術是？ (只需知道名稱即可，例如：使用 CNN 卷積神經網路做影像分類)\n",
        "3. 資料來源？ "
      ]
    },
    {
      "cell_type": "markdown",
      "metadata": {
        "id": "VsX8Fb4sfx9M"
      },
      "source": [
        "- [Google AI blog](https://ai.googleblog.com/)\n",
        "- [Facebook Research blog](https://research.fb.com/blog/)\n",
        "- [Apple machine learning journal](https://machinelearning.apple.com/)\n",
        "- [機器之心](https://www.jiqizhixin.com/)\n",
        "- [雷鋒網](http://www.leiphone.com/category/ai)"
      ]
    },
    {
      "cell_type": "markdown",
      "metadata": {
        "id": "16bO6K2ukncx"
      },
      "source": [
        "1. 最适合学习英语的Netflix电影和电视剧有哪些？\r\n",
        "2. CountVectorizer\r\n",
        "3. 雷鋒網 https://www.leiphone.com/news/202012/qvdWvzqLE45O01DM.html"
      ]
    },
    {
      "cell_type": "code",
      "metadata": {
        "id": "6B7uJrGvfx9N"
      },
      "source": [
        "1. "
      ],
      "execution_count": null,
      "outputs": []
    }
  ]
}